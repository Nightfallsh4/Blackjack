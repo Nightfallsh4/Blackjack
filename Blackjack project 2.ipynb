{
 "cells": [
  {
   "cell_type": "code",
   "execution_count": 10,
   "metadata": {},
   "outputs": [],
   "source": [
    "cards_deck = {\"Hearts King  \":10,\"Spade king  \":10,\"Clubs king  \":10, \"Diamond king  \":10,\n",
    "             \"Hearts Queen  \":10,\"Spade Queen  \":10,\"Clubs Queen  \":10,\"Diamond Queen  \":10,\n",
    "             \"Hearts Joker  \":10,\"Spade Joker  \":10,\"Clubs Joker  \":10,\"Diamond Joker  \":10,\n",
    "             \"Hearts 9  \":9,\"Spade 9  \":9,\"Clubs 9  \":9,\"Diamond 9  \":9,\n",
    "             \"Hearts 8  \":8,\"Spade 8  \":8,\"Clubs 8  \":8,\"Diamond 8  \":8,\n",
    "             \"Hearts 7  \":7,\"Spade 7  \":7,\"Clubs 7  \":7,\"Diamond 7  \":7,\n",
    "             \"Hearts 6  \":6,\"Spade 6  \":6,\"Clubs 6  \":6,\"Diamond 6  \":6,\n",
    "             \"Hearts 5  \":5,\"Spade 5  \":5,\"Clubs 5  \":5,\"Diamond 5  \":5,\n",
    "             \"Hearts 4  \":4,\"Spade 4  \":4,\"Clubs 4  \":4,\"Diamond 4  \":4,\n",
    "             \"Hearts 3  \":3,\"Spade 3  \":3,\"Clubs 3  \":3,\"Diamond 3  \":3,\n",
    "             \"Hearts 2  \":2,\"Spade 2  \":2,\"Clubs 2  \":2,\"Diamond 2  \":2,}\n",
    "deck_keys=['Ace','Ace','Ace','Ace','Hearts King  ','Spade king  ','Clubs king  ','Diamond king  ','Hearts Queen  ','Spade Queen  ','Clubs Queen  ','Diamond Queen  ','Hearts Joker  ','Spade Joker  ','Clubs Joker  ','Diamond Joker  ','Hearts 9  ','Spade 9  ','Clubs 9  ','Diamond 9  ','Hearts 8  ','Spade 8  ','Clubs 8  ','Diamond 8  ','Hearts 7  ','Spade 7  ','Clubs 7  ','Diamond 7  ','Hearts 6  ','Spade 6  ','Clubs 6  ','Diamond 6  ','Hearts 5  ','Spade 5  ','Clubs 5  ','Diamond 5  ','Hearts 4  ','Spade 4  ','Clubs 4  ','Diamond 4  ','Hearts 3  ','Spade 3  ','Clubs 3  ','Diamond 3  ','Hearts 2  ','Spade 2  ','Clubs 2  ','Diamond 2  ']"
   ]
  },
  {
   "cell_type": "code",
   "execution_count": null,
   "metadata": {},
   "outputs": [],
   "source": []
  },
  {
   "cell_type": "code",
   "execution_count": 2,
   "metadata": {},
   "outputs": [],
   "source": [
    "class Account:\n",
    "    '''\n",
    "    Takes in balance in the begining.and also the amount to added or subtracted to the account.\n",
    "    '''\n",
    "    def __init__(self,balance):\n",
    "        self.balance = balance\n",
    "    \n",
    "    def add_value(self,amount):\n",
    "        self.balance = balance+amount\n",
    "    \n",
    "    def reduce_value(self,amount):\n",
    "        self.balance = balance-amount\n",
    "    "
   ]
  },
  {
   "cell_type": "code",
   "execution_count": 3,
   "metadata": {},
   "outputs": [],
   "source": [
    "def display(player,computer,turn=2):\n",
    "    \"\"\"\n",
    "    Should take in the present cards of player and computer as string\n",
    "    \"\"\"\n",
    "    clear_output()\n",
    "    \n",
    "    print(\"Welcome to Blackjack\")\n",
    "    print(\"\")\n",
    "    if turn==1:\n",
    "        print(f\"Computer has=  {computer[0]}, Unknown\")\n",
    "    else:\n",
    "        print(f\"Computer has=  {computer}\")\n",
    "    print(\"\")\n",
    "    print(\"\")\n",
    "    print(f\"Player has  =  {player}\")\n",
    "    print(\"\")\n",
    "    print(\"\")\n",
    "    turn=turn+1"
   ]
  },
  {
   "cell_type": "code",
   "execution_count": 4,
   "metadata": {},
   "outputs": [],
   "source": [
    "def take_card(deck):\n",
    "    \"\"\"\n",
    "    Deck should be a list of cards from which the last card can be taken.\n",
    "    \"\"\"\n",
    "    card=deck[-1]\n",
    "    deck.pop()\n",
    "    return card"
   ]
  },
  {
   "cell_type": "code",
   "execution_count": 5,
   "metadata": {},
   "outputs": [],
   "source": [
    "def check_win(player_sum,computer_sum,condition,cash,bank_amount):\n",
    "    '''\n",
    "    To check if the conditions for win and loose are met. Should input the value fo the cards not the names.\n",
    "    After including the sum of the cards including the value for aces.\n",
    "    '''\n",
    "    \n",
    "    print(f\"Player sum is {player_sum}\")\n",
    "    print(f\"Computer sum is {computer_sum}\")\n",
    "    if player_sum>=21:\n",
    "        \n",
    "        print(f\"You have lost the game. And all of your bet money. Your bank balance is {bank_amount}\")\n",
    "        cash = 0\n",
    "        return False,cash\n",
    "    elif computer_sum>=21:\n",
    "        cash = cash*2\n",
    "        print(f\"You have won the game.Your bet money is {cash}\")\n",
    "        return False,cash\n",
    "    elif computer_sum<21 and computer_sum>player_sum:\n",
    "        print(f\"You have lost the game. And all of your bet money as computer sum is more than the player sum and less than 21. Your balance is {bank_amount}\")\n",
    "        cash = 0\n",
    "        return False,cash\n",
    "    else:\n",
    "        return True,cash\n",
    "    "
   ]
  },
  {
   "cell_type": "code",
   "execution_count": 6,
   "metadata": {},
   "outputs": [],
   "source": [
    "def count_cards(player_cards,computer_cards,player_sum=0,computer_sum=0):\n",
    "    for i in player_cards:\n",
    "        if 'Ace'==i:\n",
    "            ace_value=int(input(\"Enter the value of ace you want to take- \"))\n",
    "            player_sum=player_sum+ace_value\n",
    "        else:\n",
    "            player_sum=player_sum+cards_deck[i]\n",
    "    for j in computer_cards:\n",
    "        if 'Ace'==j:\n",
    "            ace_value=int(input(\"Enter the value of ace you want to take- \"))\n",
    "            player_sum=player_sum+ace_value\n",
    "        else:\n",
    "            computer_sum=computer_sum+cards_deck[j]\n",
    "    return player_sum,computer_sum"
   ]
  },
  {
   "cell_type": "code",
   "execution_count": 7,
   "metadata": {},
   "outputs": [],
   "source": [
    "import random \n",
    "from IPython.display import clear_output"
   ]
  },
  {
   "cell_type": "code",
   "execution_count": 12,
   "metadata": {},
   "outputs": [
    {
     "name": "stdout",
     "output_type": "stream",
     "text": [
      "Welcome to Blackjack\n",
      "\n",
      "Computer has=  ['Spade 7  ', 'Spade Joker  ', 'Hearts 4  ']\n",
      "\n",
      "\n",
      "Player has  =  ['Diamond king  ', 'Diamond 7  ']\n",
      "\n",
      "\n",
      "Player sum is 17\n",
      "Computer sum is 21\n",
      "You have won the game.Your bet money is 100\n"
     ]
    }
   ],
   "source": [
    "random.shuffle(deck_keys)\n",
    "player_cards=[]\n",
    "computer_cards=[]\n",
    "balance= int(input(\"Enter your starting money= \"))\n",
    "bank_amount = Account(balance)\n",
    "cash=int(input(\"Enter the amount of cash you want to bet= \"))\n",
    "bank_amount.reduce_value(cash)\n",
    "bank_balance=bank_amount.balance\n",
    "for i in range(2):\n",
    "    taken_card=take_card(deck_keys)\n",
    "    player_cards.append(taken_card)\n",
    "for i in range(2):\n",
    "    taken_card=take_card(deck_keys)\n",
    "    computer_cards.append(taken_card)\n",
    "\n",
    "condition = True\n",
    "print(\"Welcome to blackjack\")\n",
    "\n",
    "condition2=True\n",
    "\n",
    "while condition==True:\n",
    "    player_sum=0\n",
    "    computer_sum=0\n",
    "    display(player_cards,computer_cards,1)\n",
    "    player_input=input(\"Do you want to hit or stay- \")\n",
    "    if player_input.lower()==\"hit\":\n",
    "        taken_card=take_card(deck_keys)\n",
    "        player_cards.append(taken_card)\n",
    "        (player_sum1,computer_sum1)=count_cards(player_cards,computer_cards)\n",
    "        display(player_cards,computer_cards,1)\n",
    "        (condition,cash)=check_win(player_sum1,computer_sum1,condition,cash,bank_balance)\n",
    "    elif player_input.lower()==\"stay\":\n",
    "        break\n",
    "while condition2==True:\n",
    "    player_sum=0\n",
    "    computer_sum=0\n",
    "    if condition==False:\n",
    "    \n",
    "        break\n",
    "    display(player_cards,computer_cards)\n",
    "    player_input=input(\"Enter any key to continue \")\n",
    "    taken_card=take_card(deck_keys)\n",
    "    computer_cards.append(taken_card)\n",
    "    (player_sum,computer_sum)=count_cards(player_cards,computer_cards)\n",
    "    display(player_cards,computer_cards)\n",
    "    (condition2,cash)=check_win(player_sum,computer_sum,condition2,cash,bank_balance)"
   ]
  },
  {
   "cell_type": "code",
   "execution_count": null,
   "metadata": {},
   "outputs": [],
   "source": []
  }
 ],
 "metadata": {
  "kernelspec": {
   "display_name": "Python 3",
   "language": "python",
   "name": "python3"
  },
  "language_info": {
   "codemirror_mode": {
    "name": "ipython",
    "version": 3
   },
   "file_extension": ".py",
   "mimetype": "text/x-python",
   "name": "python",
   "nbconvert_exporter": "python",
   "pygments_lexer": "ipython3",
   "version": "3.7.4"
  }
 },
 "nbformat": 4,
 "nbformat_minor": 2
}
